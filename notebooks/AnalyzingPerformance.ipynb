{
 "cells": [
  {
   "cell_type": "code",
   "execution_count": null,
   "metadata": {},
   "outputs": [],
   "source": [
    "from pstatsviewer.viewer import _calc_frames\n",
    "from pstats import Stats\n",
    "import pandas as pd"
   ]
  },
  {
   "cell_type": "code",
   "execution_count": null,
   "metadata": {},
   "outputs": [],
   "source": [
    "def enrich_stas_df(df):\n",
    "    return pd.merge(\n",
    "        (\n",
    "            df.reset_index()[\"filename:funcname\"]\n",
    "                .str.split(\":\", n = 1, expand = True)\n",
    "                .rename(columns={0:\"file\", 1: \"function\"})\n",
    "                .assign(**{\n",
    "                    \"filename:funcname\": df.reset_index()[\"filename:funcname\"],\n",
    "                    \"module\": [ \n",
    "                        row[-1:][0].split(\":\")[0].replace(\".py\", \"\")\n",
    "                        for row in df.reset_index()[\"filename:funcname\"].str.split(\"/\")\n",
    "                    ]\n",
    "                })\n",
    "            \n",
    "        ),\n",
    "        df.reset_index(),\n",
    "        on=\"filename:funcname\"\n",
    "    ).drop(['filename:funcname'], axis=1)\n"
   ]
  },
  {
   "cell_type": "code",
   "execution_count": null,
   "metadata": {},
   "outputs": [],
   "source": [
    "generator_timings_df = enrich_stas_df(_calc_frames(Stats('../metrics/test_generator_consumption.prof'))[0])\n",
    "iterator_timings_df = enrich_stas_df(_calc_frames(Stats('../metrics/test_iterator_consumption.prof'))[0])\n",
    "chain_gen_timings_df = enrich_stas_df(_calc_frames(Stats('../metrics/test_chained_generator_consumption.prof'))[0])\n",
    "chain_iter_timings_df = enrich_stas_df(_calc_frames(Stats('../metrics/test_chained_iterator_consumption.prof'))[0])\n",
    "\n",
    "df = pd.concat([\n",
    "    generator_timings_df.assign(type=\"generator\"), \n",
    "    iterator_timings_df.assign(type=\"iterator\"), \n",
    "    chain_gen_timings_df.assign(type=\"chained-generator\"),\n",
    "    chain_iter_timings_df.assign(type=\"chained-iterator\")\n",
    "]).sort_values(by=[\"function\", \"cumtime\"])"
   ]
  },
  {
   "cell_type": "code",
   "execution_count": null,
   "metadata": {},
   "outputs": [],
   "source": [
    "df[df.function.str.startswith(\"test_consuming\")].head(20)"
   ]
  },
  {
   "cell_type": "code",
   "execution_count": null,
   "metadata": {},
   "outputs": [],
   "source": [
    "df[(\n",
    "    (df.type == \"iterator\") & \n",
    "    df.function.str.startswith(\"test_consuming\")\n",
    ")].sort_values(by=[\"module\", \"cumtime\"])"
   ]
  },
  {
   "cell_type": "code",
   "execution_count": null,
   "metadata": {},
   "outputs": [],
   "source": []
  }
 ],
 "metadata": {
  "kernelspec": {
   "display_name": "Python 3",
   "language": "python",
   "name": "python3"
  },
  "language_info": {
   "codemirror_mode": {
    "name": "ipython",
    "version": 3
   },
   "file_extension": ".py",
   "mimetype": "text/x-python",
   "name": "python",
   "nbconvert_exporter": "python",
   "pygments_lexer": "ipython3",
   "version": "3.7.7"
  }
 },
 "nbformat": 4,
 "nbformat_minor": 4
}
